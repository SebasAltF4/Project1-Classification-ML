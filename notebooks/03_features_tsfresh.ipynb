{
 "cells": [
  {
   "cell_type": "markdown",
   "id": "2f67ebf0",
   "metadata": {},
   "source": [
    "# Feature Engineering con *tsfresh* (HAR)\n",
    "\n",
    "En este notebook se construirá un conjunto de *features* estadísticas masivas usando la librería **tsfresh** sobre el dataset HAR (ventanas de 2.56 s, 128 pasos, 9 canales).  \n",
    "\n",
    "**Salidas principales:**  \n",
    "- **Resumen de Características** (`../reports/tables/tsfresh_feature_summary.csv`): Archivo de metadatos que documenta la configuración usada, número de características iniciales, número tras la selección, y tiempos de cómputo.  \n",
    "- **Set de Features Seleccionados** (`../artifacts/tsfresh_features_selected.npz`): Archivo comprimido que contiene la matriz final de *features* seleccionadas, junto con las etiquetas y metadatos.  \n",
    "- **Figuras exploratorias** (`../reports/figures/`): Visualizaciones preliminares (PCA/UMAP) para evaluar la separabilidad de actividades en el espacio de *features*.  "
   ]
  },
  {
   "cell_type": "markdown",
   "id": "8de1b573",
   "metadata": {},
   "source": [
    "## 1. Carga de datos y formato\n",
    "\n",
    "* Reutilizar `har_processed.npz` (`X_train`, `y_train`, `channel_names`).\n",
    "* Convertir cada muestra (ventana de 128 pasos, 9 canales) a un **DataFrame “long-form”** con columnas:\n",
    "\n",
    "  * `id` = índice de muestra.\n",
    "  * `time` = paso temporal (0–127).\n",
    "  * `value` = valor de señal.\n",
    "  * `kind` = canal (e.g., body_acc_x).\n",
    "* Esto es el formato que *tsfresh* espera (`id`, `time`, `value`, `kind`)."
   ]
  },
  {
   "cell_type": "code",
   "execution_count": 7,
   "id": "292c5da7",
   "metadata": {},
   "outputs": [
    {
     "name": "stdout",
     "output_type": "stream",
     "text": [
      "[Carga] X_train: (7352, 128, 9) | y_train: (7352,)\n",
      "[CAP] Usando sólo 7000 muestras.\n",
      "[Long-form] df_long shape: (8064000, 4)  (~ n*T*C filas)\n",
      "[Checks] kinds=[np.str_('body_acc_x'), np.str_('body_acc_y'), np.str_('body_acc_z'), np.str_('body_gyro_x'), np.str_('body_gyro_y')]... (total 9)\n",
      "[Target] shape=(7000,), clases=[1, 2, 3, 4, 5, 6]\n"
     ]
    },
    {
     "data": {
      "text/plain": [
       "0"
      ]
     },
     "execution_count": 7,
     "metadata": {},
     "output_type": "execute_result"
    }
   ],
   "source": [
    "# ============================================\n",
    "# Paso 2 — Carga y formateo de datos (HAR → long-form tsfresh)\n",
    "# ============================================\n",
    "\n",
    "import os, gc\n",
    "import numpy as np\n",
    "import pandas as pd\n",
    "\n",
    "# Configuración rápida\n",
    "DATA_PATH = \"../data/har_processed.npz\"\n",
    "CAP = 7000                 # pon un entero para trabajar sólo con las primeras N muestras\n",
    "SAVE_LONG_PARQUET = False  # True si quieres cachear el long-form a disco (parquet)\n",
    "PARQUET_PATH = \"../artifacts/har_longform.parquet\"\n",
    "\n",
    "# 1) Cargar datos\n",
    "if not os.path.exists(DATA_PATH):\n",
    "    raise FileNotFoundError(f\"No se encontró: {DATA_PATH}\")\n",
    "\n",
    "data = np.load(DATA_PATH, allow_pickle=True)\n",
    "X_train = data[\"X_train\"]          # (n, 128, 9)\n",
    "y_train = data[\"y_train\"]          # (n,)\n",
    "channel_names = data.get(\"channel_names\", None)\n",
    "\n",
    "n, T, C = X_train.shape\n",
    "print(f\"[Carga] X_train: {X_train.shape} | y_train: {y_train.shape}\")\n",
    "\n",
    "# Asegurar nombres de canales\n",
    "if channel_names is None or len(channel_names) != C:\n",
    "    channel_names = np.array([f\"ch{i}\" for i in range(C)], dtype=object)\n",
    "else:\n",
    "    channel_names = channel_names.astype(str)\n",
    "\n",
    "# CAP opcional (para pruebas rápidas)\n",
    "if CAP is not None and CAP < n:\n",
    "    X_train = X_train[:CAP]\n",
    "    y_train = y_train[:CAP]\n",
    "    n = X_train.shape[0]\n",
    "    print(f\"[CAP] Usando sólo {n} muestras.\")\n",
    "\n",
    "# 2) Construir long-form (id, time, kind, value)\n",
    "def to_long_form(X, channel_names):\n",
    "    \"\"\"\n",
    "    X: np.ndarray (n, T, C)\n",
    "    channel_names: array-like de longitud C\n",
    "    Devuelve: DataFrame con columnas ['id','time','kind','value']\n",
    "    \"\"\"\n",
    "    n, T, C = X.shape\n",
    "    dfs = []\n",
    "    ids = np.repeat(np.arange(n, dtype=np.int32), T)       # (n*T,)\n",
    "    times = np.tile(np.arange(T, dtype=np.int16), n)        # (n*T,)\n",
    "    for c in range(C):\n",
    "        vals = X[:, :, c].reshape(n * T)                    # (n*T,)\n",
    "        df_c = pd.DataFrame({\n",
    "            \"id\": ids,\n",
    "            \"time\": times,\n",
    "            \"kind\": pd.Categorical([channel_names[c]] * (n * T)),\n",
    "            \"value\": vals.astype(np.float32, copy=False)\n",
    "        })\n",
    "        dfs.append(df_c)\n",
    "        del vals, df_c\n",
    "        if (c + 1) % 3 == 0:\n",
    "            gc.collect()\n",
    "    df_long = pd.concat(dfs, ignore_index=True)\n",
    "    # Tipos compactos\n",
    "    df_long[\"id\"] = df_long[\"id\"].astype(\"int32\")\n",
    "    df_long[\"time\"] = df_long[\"time\"].astype(\"int16\")\n",
    "    # 'kind' ya es categoría; 'value' es float32\n",
    "    return df_long\n",
    "\n",
    "df_long = to_long_form(X_train, channel_names)\n",
    "print(f\"[Long-form] df_long shape: {df_long.shape}  (~ n*T*C filas)\")\n",
    "\n",
    "\n",
    "# 3) Target alineado\n",
    "target = pd.Series(y_train.astype(int, copy=False), name=\"target\")\n",
    "target.index.name = \"id\"\n",
    "assert len(target) == n, \"target y X no tienen el mismo número de muestras\"\n",
    "\n",
    "# 4) Sanity checks mínimos\n",
    "assert {\"id\", \"time\", \"kind\", \"value\"}.issubset(df_long.columns), \"Faltan columnas en long-form\"\n",
    "assert df_long[\"id\"].min() == 0 and df_long[\"id\"].max() == n - 1, \"IDs fuera de rango\"\n",
    "assert df_long[\"time\"].min() == 0 and df_long[\"time\"].max() == T - 1, \"Times fuera de rango\"\n",
    "assert df_long[\"kind\"].nunique() == C, \"Nº de canales (kind) no coincide con C\"\n",
    "assert np.isfinite(df_long[\"value\"]).all(), \"Hay NaN/Inf en 'value'\"\n",
    "\n",
    "print(f\"[Checks] kinds={df_long['kind'].unique().tolist()[:5]}... (total {df_long['kind'].nunique()})\")\n",
    "print(f\"[Target] shape={target.shape}, clases={sorted(map(int, pd.unique(target)))}\")\n",
    "\n",
    "# 5) Cachear long-form a parquet\n",
    "if SAVE_LONG_PARQUET:\n",
    "    os.makedirs(os.path.dirname(PARQUET_PATH), exist_ok=True)\n",
    "    df_long.to_parquet(PARQUET_PATH, index=False)\n",
    "    print(f\"[Cache] Guardado long-form en: {PARQUET_PATH}\")\n",
    "\n",
    "gc.collect()\n"
   ]
  },
  {
   "cell_type": "markdown",
   "id": "490dadae",
   "metadata": {},
   "source": [
    "\n",
    "## 2. Extracción de features con *tsfresh*\n",
    "\n",
    "* Usar funciones de extracción de `tsfresh.feature_extraction.extract_features`.\n",
    "* Parámetros:\n",
    "\n",
    "  * `column_id=\"id\"`, `column_sort=\"time\"`, `column_kind=\"kind\"`, `column_value=\"value\"`.\n",
    "  * Usar configuración eficiente: `EfficientFCParameters()` (para empezar sin explotar RAM).\n",
    "* Generar un DataFrame de features por muestra."
   ]
  },
  {
   "cell_type": "code",
   "execution_count": 8,
   "id": "db272d56",
   "metadata": {},
   "outputs": [
    {
     "name": "stderr",
     "output_type": "stream",
     "text": [
      "Feature Extraction: 100%|██████████| 20/20 [00:32<00:00,  1.64s/it]\n"
     ]
    },
    {
     "name": "stdout",
     "output_type": "stream",
     "text": [
      "[tsfresh] Extracción terminada en 40.56 seg\n",
      "[tsfresh] Shape inicial: (7000, 90)\n",
      "[tsfresh] Shape tras limpieza: (7000, 90)\n"
     ]
    }
   ],
   "source": [
    "# ============================================\n",
    "# Paso 3 — Extracción de features con tsfresh\n",
    "# ============================================\n",
    "import time, gc\n",
    "from tsfresh.feature_extraction import extract_features, MinimalFCParameters\n",
    "\n",
    "# Configuración\n",
    "TSFRESH_PARAMS = MinimalFCParameters()   # set reducido y eficiente\n",
    "N_JOBS = 4                                 # paralelismo (ajusta según tu CPU)\n",
    "DISABLE_PROGRESS = False                   # True si no quieres barra de progreso\n",
    "\n",
    "# Extracción\n",
    "t0 = time.time()\n",
    "X_tsfresh = extract_features(\n",
    "    df_long,\n",
    "    column_id=\"id\",\n",
    "    column_sort=\"time\",\n",
    "    column_kind=\"kind\",\n",
    "    column_value=\"value\",\n",
    "    default_fc_parameters=TSFRESH_PARAMS,\n",
    "    n_jobs=N_JOBS,\n",
    "    disable_progressbar=DISABLE_PROGRESS\n",
    ")\n",
    "extract_time = round(time.time() - t0, 2)\n",
    "\n",
    "print(f\"[tsfresh] Extracción terminada en {extract_time} seg\")\n",
    "print(f\"[tsfresh] Shape inicial: {X_tsfresh.shape}\")\n",
    "\n",
    "# Limpieza y sanity check\n",
    "# Asegurar que index de X_tsfresh coincide con target (id = fila)\n",
    "X_tsfresh = X_tsfresh.sort_index()\n",
    "target = target.sort_index()\n",
    "\n",
    "assert all(X_tsfresh.index == target.index), \"Desalineación entre features y target\"\n",
    "\n",
    "# Remover columnas con NaN/Inf si existen (pueden aparecer en features raros)\n",
    "na_cols = X_tsfresh.columns[X_tsfresh.isna().any()].tolist()\n",
    "if na_cols:\n",
    "    print(f\"[Warning] {len(na_cols)} columnas con NaN -> se eliminan\")\n",
    "    X_tsfresh = X_tsfresh.drop(columns=na_cols)\n",
    "\n",
    "inf_cols = [c for c in X_tsfresh.columns if np.isinf(X_tsfresh[c]).any()]\n",
    "if inf_cols:\n",
    "    print(f\"[Warning] {len(inf_cols)} columnas con Inf -> se eliminan\")\n",
    "    X_tsfresh = X_tsfresh.drop(columns=inf_cols)\n",
    "\n",
    "# Reporte final\n",
    "print(f\"[tsfresh] Shape tras limpieza: {X_tsfresh.shape}\")\n"
   ]
  },
  {
   "cell_type": "markdown",
   "id": "3624a56c",
   "metadata": {},
   "source": [
    "\n",
    "## 3. Selección de features\n",
    "\n",
    "* Usar `tsfresh.select_features` con `y_train` para filtrar solo features relevantes.\n",
    "* Argumentos:\n",
    "\n",
    "  * `target=y_train`.\n",
    "  * `fdr_level` (ej. 0.05).\n",
    "* Esto reducirá miles de features a un subconjunto estadísticamente significativo."
   ]
  },
  {
   "cell_type": "markdown",
   "id": "d933fb74",
   "metadata": {},
   "source": [
    "\n",
    "## 4. Validaciones rápidas\n",
    "\n",
    "* **Sanity checks**:\n",
    "\n",
    "  * Revisar número de features antes y después de la selección.\n",
    "  * Confirmar ausencia de NaN/Inf.\n",
    "* **Separabilidad preliminar**: PCA/UMAP sobre features seleccionados para ver agrupamiento por actividad.\n",
    "* **Balance vs redundancia**: contar cuántos features se quedan por canal."
   ]
  },
  {
   "cell_type": "markdown",
   "id": "88de3dd2",
   "metadata": {},
   "source": [
    "\n",
    "## 5. Exportación para paper y trazabilidad\n",
    "\n",
    "* Guardar:\n",
    "\n",
    "  * CSV de resumen (`../reports/tables/tsfresh_feature_summary.csv`) con:\n",
    "\n",
    "    * `n_features_raw`, `n_features_selected`, parámetros de extracción, tiempo de cómputo.\n",
    "  * Artefactos:\n",
    "\n",
    "    * `../artifacts/tsfresh_features_selected.npz` (X_tsfresh, y, meta).\n",
    "  * (Opcional) Figura PCA/UMAP de features seleccionados."
   ]
  },
  {
   "cell_type": "markdown",
   "id": "0121ee5e",
   "metadata": {},
   "source": [
    "\n",
    "## 6. Limitaciones y plan de combinación\n",
    "\n",
    "* Reconocer limitaciones:\n",
    "\n",
    "  * *tsfresh* es intensivo en tiempo/memoria.\n",
    "  * Riesgo de sobreajuste si no se controla selección.\n",
    "* Plan experimental:\n",
    "\n",
    "  * Comparar **solo PyTS** vs **solo tsfresh** vs **PyTS+tsfresh** en Notebook 04 (modelado).\n"
   ]
  }
 ],
 "metadata": {
  "kernelspec": {
   "display_name": ".venv",
   "language": "python",
   "name": "python3"
  },
  "language_info": {
   "codemirror_mode": {
    "name": "ipython",
    "version": 3
   },
   "file_extension": ".py",
   "mimetype": "text/x-python",
   "name": "python",
   "nbconvert_exporter": "python",
   "pygments_lexer": "ipython3",
   "version": "3.12.3"
  }
 },
 "nbformat": 4,
 "nbformat_minor": 5
}
