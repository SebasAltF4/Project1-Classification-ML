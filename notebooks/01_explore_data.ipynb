{
 "cells": [
  {
   "cell_type": "markdown",
   "id": "ef74072f",
   "metadata": {},
   "source": []
  },
  {
   "cell_type": "code",
   "execution_count": null,
   "id": "e72103a7",
   "metadata": {},
   "outputs": [
    {
     "name": "stdout",
     "output_type": "stream",
     "text": [
      "Keys disponibles: ['body_acc_x', 'body_acc_y', 'body_acc_z', 'body_gyro_x', 'body_gyro_y', 'body_gyro_z', 'total_acc_x', 'total_acc_y', 'total_acc_z', 'y']\n",
      "body_acc_x (7352, 128) float64\n",
      "body_acc_y (7352, 128) float64\n",
      "body_acc_z (7352, 128) float64\n",
      "body_gyro_x (7352, 128) float64\n",
      "body_gyro_y (7352, 128) float64\n",
      "body_gyro_z (7352, 128) float64\n",
      "total_acc_x (7352, 128) float64\n",
      "total_acc_y (7352, 128) float64\n",
      "total_acc_z (7352, 128) float64\n",
      "y (7352,) float64\n"
     ]
    }
   ],
   "source": [
    "import h5py\n",
    "\n",
    "# Abrir train.h5\n",
    "with h5py.File(\"../data/train.h5\", \"r\") as f:\n",
    "    print(\"Keys disponibles:\", list(f.keys()))\n",
    "\n",
    "    # Si hay un grupo de features, explora dimensiones\n",
    "    for k in f.keys():\n",
    "        print(k, f[k].shape, f[k].dtype)\n"
   ]
  },
  {
   "cell_type": "code",
   "execution_count": null,
   "id": "e68ff548",
   "metadata": {},
   "outputs": [],
   "source": []
  }
 ],
 "metadata": {
  "kernelspec": {
   "display_name": ".venv",
   "language": "python",
   "name": "python3"
  },
  "language_info": {
   "codemirror_mode": {
    "name": "ipython",
    "version": 3
   },
   "file_extension": ".py",
   "mimetype": "text/x-python",
   "name": "python",
   "nbconvert_exporter": "python",
   "pygments_lexer": "ipython3",
   "version": "3.12.3"
  }
 },
 "nbformat": 4,
 "nbformat_minor": 5
}
